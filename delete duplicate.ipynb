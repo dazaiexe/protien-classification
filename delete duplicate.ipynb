{
 "cells": [
  {
   "cell_type": "code",
   "execution_count": 3,
   "metadata": {},
   "outputs": [],
   "source": [
    "from PIL import Image\n",
    "import os\n",
    "import hashlib\n",
    "\n",
    "data_dir = \"./DATA_LABELS\" \n",
    "\n",
    "def compute_image_hash(image_path):\n",
    "   \n",
    "    with Image.open(image_path) as img:\n",
    "        img = img.resize((128, 128)).convert(\"RGB\")  # Normalize size and mode\n",
    "        hash_obj = hashlib.md5(img.tobytes())  # Create a hash of the image bytes\n",
    "    return hash_obj.hexdigest()\n",
    "def remove_duplicates(folder_path): #Remove duplicate images from the specified folder.\n",
    "    hashes = {}\n",
    "    duplicates = []\n",
    "    \n",
    "    for root, _, files in os.walk(folder_path):\n",
    "        for file in files:\n",
    "            if file.lower().endswith(('.png', '.jpg', '.jpeg', '.bmp', '.gif', '.tiff')):\n",
    "                file_path = os.path.join(root, file)\n",
    "                file_hash = compute_image_hash(file_path)\n",
    "                \n",
    "                if file_hash in hashes:\n",
    "                    duplicates.append(file_path)\n",
    "                else:\n",
    "                    hashes[file_hash] = file_path\n",
    "\n",
    "    # Delete duplicates\n",
    "    for duplicate in duplicates:\n",
    "        os.remove(duplicate)\n",
    "        print(f\"Deleted duplicate: {duplicate}\")\n",
    "\n",
    "    print(f\"Removed {len(duplicates)} duplicate images.\")"
   ]
  },
  {
   "cell_type": "code",
   "execution_count": 4,
   "metadata": {},
   "outputs": [
    {
     "name": "stdout",
     "output_type": "stream",
     "text": [
      "Removed 0 duplicate images.\n"
     ]
    }
   ],
   "source": [
    "data_dir = \"./DATA_LABELS\"\n",
    "\n",
    "remove_duplicates(data_dir)"
   ]
  }
 ],
 "metadata": {
  "kernelspec": {
   "display_name": ".venv",
   "language": "python",
   "name": "python3"
  },
  "language_info": {
   "codemirror_mode": {
    "name": "ipython",
    "version": 3
   },
   "file_extension": ".py",
   "mimetype": "text/x-python",
   "name": "python",
   "nbconvert_exporter": "python",
   "pygments_lexer": "ipython3",
   "version": "3.9.13"
  }
 },
 "nbformat": 4,
 "nbformat_minor": 2
}
